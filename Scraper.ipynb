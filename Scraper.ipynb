{
 "cells": [
  {
   "cell_type": "markdown",
   "metadata": {},
   "source": [
    "In this notebook we scrape the moonboard climbing route database and save it in a pandas dataframe.  We leave the cleaning and inspection of the data to the [Data cleaning](Data-cleaning-and-analysis.ipynb) notebook."
   ]
  },
  {
   "cell_type": "code",
   "execution_count": 1,
   "metadata": {},
   "outputs": [],
   "source": [
    "import requests\n",
    "from requests.adapters import HTTPAdapter\n",
    "from requests.packages.urllib3.util.retry import Retry\n",
    "from bs4 import BeautifulSoup\n",
    "import pandas as pd\n",
    "import json\n",
    "from lxml import html\n",
    "import os\n",
    "from tqdm import tnrange, tqdm_notebook, tqdm\n",
    "\n",
    "# load username and password\n",
    "login_file = \"login_details.json\"\n",
    "\n",
    "with open(login_file, \"r\") as read_file:\n",
    "    login_details = json.load(read_file)\n",
    "\n",
    "base_url = \"https://www.moonboard.com/Problems/Index\"\n",
    "problems_url = \"https://www.moonboard.com/Problems/GetProblems\"\n",
    "login_url = \"https://www.moonboard.com/Account/Login?ReturnUrl=%2FProblems%2FIndex\"\n",
    "\n",
    "# Create a session and use own transport adapter to automatically retry with backoff\n",
    "session = requests.session()\n",
    "\n",
    "retries = Retry(total=5, backoff_factor=0.3,\n",
    "                status_forcelist=[500, 502, 503, 504])\n",
    "session.mount('https://www.moonboard.com', HTTPAdapter(max_retries=retries))\n",
    "\n",
    "spoof_header = {\n",
    "    \"Accept\": \"text/html,application/xhtml+xml,application/xml;q=0.9,image/webp,image/apng,*/*;q=0.8\",\n",
    "    \"Accept-Encoding\": \"gzip, deflate, br\",\n",
    "    \"Accept-Language\": \"en-GB,en;q=0.9\",\n",
    "    \"Upgrade-Insecure-Requests\": \"1\",\n",
    "    \"User-Agent\": \"Mozilla/5.0 (Windows NT 10.0; Win64; x64) AppleWebKit/537.36 (KHTML, like Gecko) Chrome/69.0.3497.100 Safari/537.36\"\n",
    "}\n",
    "session.headers.update(spoof_header)"
   ]
  },
  {
   "cell_type": "code",
   "execution_count": 2,
   "metadata": {},
   "outputs": [],
   "source": [
    "# get the authenticity token and login\n",
    "r = session.get(login_url)\n",
    "soup = BeautifulSoup(r.content, \"lxml\")\n",
    "tag = soup.find('input', attrs={'name': '__RequestVerificationToken'})\n",
    "authenticity_token = tag['value']\n",
    "\n",
    "login_payload = {\"Login.Username\": login_details['username'],\n",
    "                 \"Login.Password\": login_details['password'],\n",
    "                 \"__RequestVerificationToken\": authenticity_token}\n",
    "\n",
    "r = session.post(login_url, data=login_payload,\n",
    "                 headers=dict(referer=base_url), timeout=1)\n",
    "\n",
    "# check if error\n",
    "if r.status_code != requests.codes.ok:\n",
    "    print(result)"
   ]
  },
  {
   "cell_type": "markdown",
   "metadata": {},
   "source": [
    "Now let's try to scrape the problems data.  We can request it via post and it's returned to us in JSON form.  Usually only 15 problems are requested at a time.  We first request page 1 and use it to create a dataframe and find the total number of entries in the database"
   ]
  },
  {
   "cell_type": "code",
   "execution_count": 5,
   "metadata": {},
   "outputs": [
    {
     "name": "stdout",
     "output_type": "stream",
     "text": [
      "Total entries 13569\n"
     ]
    }
   ],
   "source": [
    "page = 1\n",
    "# Website didn't like me requesting large page sizes\n",
    "pageSize = 15\n",
    "\n",
    "problems_payload = {\"page\": page, \"pageSize\": pageSize,\n",
    "                    \"sort\": '', \"group\": '', 'filter': ''}\n",
    "r = session.post(problems_url, data=problems_payload,\n",
    "                 timeout=1, headers=dict(referer=base_url))\n",
    "# check for error\n",
    "if r.status_code != requests.codes.ok:\n",
    "    print(r)\n",
    "\n",
    "data = r.json()\n",
    "total_entries = data['Total']\n",
    "df = pd.DataFrame(data['Data'])\n",
    "print(f\"Total entries {total_entries}\")"
   ]
  },
  {
   "cell_type": "code",
   "execution_count": 6,
   "metadata": {
    "scrolled": false
   },
   "outputs": [
    {
     "data": {
      "application/vnd.jupyter.widget-view+json": {
       "model_id": "0d7b828d0c7a41948aa864a5a364208c",
       "version_major": 2,
       "version_minor": 0
      },
      "text/plain": [
       "HBox(children=(IntProgress(value=0, max=904), HTML(value='')))"
      ]
     },
     "metadata": {},
     "output_type": "display_data"
    },
    {
     "name": "stdout",
     "output_type": "stream",
     "text": [
      "\n"
     ]
    }
   ],
   "source": [
    "# Find the total size of the database and request all of it\n",
    "\n",
    "total_pages = total_entries // pageSize\n",
    "if total_entries % pageSize != 0:\n",
    "    total_pages += 1\n",
    "\n",
    "# loop through the rest of the requests\n",
    "for i in tnrange(2, total_pages + 1):\n",
    "    problems_payload['page'] = i\n",
    "    r = session.post(problems_url, data=problems_payload,\n",
    "                     timeout=10, headers=dict(referer=base_url))\n",
    "    # check if error\n",
    "    if r.status_code != requests.codes.ok:\n",
    "        print(r)\n",
    "\n",
    "    df = df.append(r.json()['Data'], ignore_index=True)"
   ]
  },
  {
   "cell_type": "code",
   "execution_count": 7,
   "metadata": {},
   "outputs": [],
   "source": [
    "# Save the datafram\n",
    "directory = \"data\"\n",
    "if not os.path.exists(directory):\n",
    "    os.makedirs(directory)\n",
    "path_pickle = os.path.join(directory, 'database.zip')\n",
    "path_json = os.path.join(directory, 'database.json')\n",
    "\n",
    "# df.to_json(path_json)\n",
    "df.to_pickle(path_pickle)"
   ]
  },
  {
   "cell_type": "code",
   "execution_count": 8,
   "metadata": {},
   "outputs": [
    {
     "data": {
      "text/html": [
       "<div>\n",
       "<style scoped>\n",
       "    .dataframe tbody tr th:only-of-type {\n",
       "        vertical-align: middle;\n",
       "    }\n",
       "\n",
       "    .dataframe tbody tr th {\n",
       "        vertical-align: top;\n",
       "    }\n",
       "\n",
       "    .dataframe thead th {\n",
       "        text-align: right;\n",
       "    }\n",
       "</style>\n",
       "<table border=\"1\" class=\"dataframe\">\n",
       "  <thead>\n",
       "    <tr style=\"text-align: right;\">\n",
       "      <th></th>\n",
       "      <th>ApiId</th>\n",
       "      <th>Attempts</th>\n",
       "      <th>Id</th>\n",
       "      <th>MoonBoardConfigurationId</th>\n",
       "      <th>Rating</th>\n",
       "      <th>Repeats</th>\n",
       "      <th>UserRating</th>\n",
       "    </tr>\n",
       "  </thead>\n",
       "  <tbody>\n",
       "    <tr>\n",
       "      <th>count</th>\n",
       "      <td>13570.0</td>\n",
       "      <td>13570.0</td>\n",
       "      <td>13570.000000</td>\n",
       "      <td>13570.0</td>\n",
       "      <td>13570.0</td>\n",
       "      <td>13570.000000</td>\n",
       "      <td>13570.000000</td>\n",
       "    </tr>\n",
       "    <tr>\n",
       "      <th>mean</th>\n",
       "      <td>0.0</td>\n",
       "      <td>0.0</td>\n",
       "      <td>319500.482756</td>\n",
       "      <td>0.0</td>\n",
       "      <td>0.0</td>\n",
       "      <td>20.145173</td>\n",
       "      <td>1.896242</td>\n",
       "    </tr>\n",
       "    <tr>\n",
       "      <th>std</th>\n",
       "      <td>0.0</td>\n",
       "      <td>0.0</td>\n",
       "      <td>6045.957040</td>\n",
       "      <td>0.0</td>\n",
       "      <td>0.0</td>\n",
       "      <td>133.964718</td>\n",
       "      <td>1.105394</td>\n",
       "    </tr>\n",
       "    <tr>\n",
       "      <th>min</th>\n",
       "      <td>0.0</td>\n",
       "      <td>0.0</td>\n",
       "      <td>305445.000000</td>\n",
       "      <td>0.0</td>\n",
       "      <td>0.0</td>\n",
       "      <td>0.000000</td>\n",
       "      <td>0.000000</td>\n",
       "    </tr>\n",
       "    <tr>\n",
       "      <th>25%</th>\n",
       "      <td>0.0</td>\n",
       "      <td>0.0</td>\n",
       "      <td>315438.250000</td>\n",
       "      <td>0.0</td>\n",
       "      <td>0.0</td>\n",
       "      <td>1.000000</td>\n",
       "      <td>2.000000</td>\n",
       "    </tr>\n",
       "    <tr>\n",
       "      <th>50%</th>\n",
       "      <td>0.0</td>\n",
       "      <td>0.0</td>\n",
       "      <td>319151.500000</td>\n",
       "      <td>0.0</td>\n",
       "      <td>0.0</td>\n",
       "      <td>3.000000</td>\n",
       "      <td>2.000000</td>\n",
       "    </tr>\n",
       "    <tr>\n",
       "      <th>75%</th>\n",
       "      <td>0.0</td>\n",
       "      <td>0.0</td>\n",
       "      <td>324666.750000</td>\n",
       "      <td>0.0</td>\n",
       "      <td>0.0</td>\n",
       "      <td>9.000000</td>\n",
       "      <td>3.000000</td>\n",
       "    </tr>\n",
       "    <tr>\n",
       "      <th>max</th>\n",
       "      <td>0.0</td>\n",
       "      <td>0.0</td>\n",
       "      <td>330118.000000</td>\n",
       "      <td>0.0</td>\n",
       "      <td>0.0</td>\n",
       "      <td>4616.000000</td>\n",
       "      <td>3.000000</td>\n",
       "    </tr>\n",
       "  </tbody>\n",
       "</table>\n",
       "</div>"
      ],
      "text/plain": [
       "         ApiId  Attempts             Id  MoonBoardConfigurationId   Rating  \\\n",
       "count  13570.0   13570.0   13570.000000                   13570.0  13570.0   \n",
       "mean       0.0       0.0  319500.482756                       0.0      0.0   \n",
       "std        0.0       0.0    6045.957040                       0.0      0.0   \n",
       "min        0.0       0.0  305445.000000                       0.0      0.0   \n",
       "25%        0.0       0.0  315438.250000                       0.0      0.0   \n",
       "50%        0.0       0.0  319151.500000                       0.0      0.0   \n",
       "75%        0.0       0.0  324666.750000                       0.0      0.0   \n",
       "max        0.0       0.0  330118.000000                       0.0      0.0   \n",
       "\n",
       "            Repeats    UserRating  \n",
       "count  13570.000000  13570.000000  \n",
       "mean      20.145173      1.896242  \n",
       "std      133.964718      1.105394  \n",
       "min        0.000000      0.000000  \n",
       "25%        1.000000      2.000000  \n",
       "50%        3.000000      2.000000  \n",
       "75%        9.000000      3.000000  \n",
       "max     4616.000000      3.000000  "
      ]
     },
     "execution_count": 8,
     "metadata": {},
     "output_type": "execute_result"
    }
   ],
   "source": [
    "df.describe()"
   ]
  },
  {
   "cell_type": "code",
   "execution_count": 9,
   "metadata": {},
   "outputs": [
    {
     "data": {
      "text/plain": [
       "Index(['ApiId', 'Attempts', 'DateDeleted', 'DateInserted', 'DateTimeString',\n",
       "       'DateUpdated', 'FirstAscender', 'Grade', 'Holdsets', 'Holdsetup', 'Id',\n",
       "       'IsAssessmentProblem', 'IsBenchmark', 'Locations', 'Method',\n",
       "       'MoonBoardConfiguration', 'MoonBoardConfigurationId', 'Moves', 'Name',\n",
       "       'NameForUrl', 'NumberOfTries', 'ProblemType', 'Rating', 'RepeatText',\n",
       "       'Repeats', 'Setter', 'UserGrade', 'UserRating'],\n",
       "      dtype='object')"
      ]
     },
     "execution_count": 9,
     "metadata": {},
     "output_type": "execute_result"
    }
   ],
   "source": [
    "df.columns"
   ]
  },
  {
   "cell_type": "code",
   "execution_count": 10,
   "metadata": {},
   "outputs": [
    {
     "data": {
      "text/plain": [
       "[{'Id': 1820187, 'Description': 'C5', 'IsStart': True, 'IsEnd': False},\n",
       " {'Id': 1820188, 'Description': 'F6', 'IsStart': True, 'IsEnd': False},\n",
       " {'Id': 1820189, 'Description': 'D9', 'IsStart': False, 'IsEnd': False},\n",
       " {'Id': 1820190, 'Description': 'G12', 'IsStart': False, 'IsEnd': False},\n",
       " {'Id': 1820191, 'Description': 'C14', 'IsStart': False, 'IsEnd': False},\n",
       " {'Id': 1820192, 'Description': 'C16', 'IsStart': False, 'IsEnd': False},\n",
       " {'Id': 1820193, 'Description': 'A18', 'IsStart': False, 'IsEnd': True}]"
      ]
     },
     "execution_count": 10,
     "metadata": {},
     "output_type": "execute_result"
    }
   ],
   "source": [
    "df['Moves'][0]"
   ]
  },
  {
   "cell_type": "code",
   "execution_count": 11,
   "metadata": {
    "scrolled": true
   },
   "outputs": [
    {
     "data": {
      "text/plain": [
       "0                    Feet follow hands\n",
       "1                    Feet follow hands\n",
       "2                    Feet follow hands\n",
       "3        Feet follow hands + screw ons\n",
       "4                 Footless + kickboard\n",
       "5                    Feet follow hands\n",
       "6                    Feet follow hands\n",
       "7                    Feet follow hands\n",
       "8                    Feet follow hands\n",
       "9        Feet follow hands + screw ons\n",
       "10                   Feet follow hands\n",
       "11                   Feet follow hands\n",
       "12                   Feet follow hands\n",
       "13                   Feet follow hands\n",
       "14                   Feet follow hands\n",
       "15                   Feet follow hands\n",
       "16                   Feet follow hands\n",
       "17                   Feet follow hands\n",
       "18                   Feet follow hands\n",
       "19                   Feet follow hands\n",
       "20                   Feet follow hands\n",
       "21                   Feet follow hands\n",
       "22                   Feet follow hands\n",
       "23                   Feet follow hands\n",
       "24                   Feet follow hands\n",
       "25                   Feet follow hands\n",
       "26                   Feet follow hands\n",
       "27                   Feet follow hands\n",
       "28                   Feet follow hands\n",
       "29                   Feet follow hands\n",
       "                     ...              \n",
       "13540                Feet follow hands\n",
       "13541                Feet follow hands\n",
       "13542                Feet follow hands\n",
       "13543                Feet follow hands\n",
       "13544                Feet follow hands\n",
       "13545                Feet follow hands\n",
       "13546                Feet follow hands\n",
       "13547                Feet follow hands\n",
       "13548                Feet follow hands\n",
       "13549                Feet follow hands\n",
       "13550                Feet follow hands\n",
       "13551                Feet follow hands\n",
       "13552                Feet follow hands\n",
       "13553                Feet follow hands\n",
       "13554                Feet follow hands\n",
       "13555                Feet follow hands\n",
       "13556                Feet follow hands\n",
       "13557                Feet follow hands\n",
       "13558                Feet follow hands\n",
       "13559                Feet follow hands\n",
       "13560                Feet follow hands\n",
       "13561                Feet follow hands\n",
       "13562                Feet follow hands\n",
       "13563                Feet follow hands\n",
       "13564                Feet follow hands\n",
       "13565                Feet follow hands\n",
       "13566                Feet follow hands\n",
       "13567                Feet follow hands\n",
       "13568                Feet follow hands\n",
       "13569                Feet follow hands\n",
       "Name: Method, Length: 13570, dtype: object"
      ]
     },
     "execution_count": 11,
     "metadata": {},
     "output_type": "execute_result"
    }
   ],
   "source": [
    "df['Method']"
   ]
  },
  {
   "cell_type": "markdown",
   "metadata": {},
   "source": [
    "In the [next notebook](Data-cleaning-and-analysis.ipynb) we clean the data, perform some analysis on it and prepare it for the machine learning."
   ]
  }
 ],
 "metadata": {
  "kernelspec": {
   "display_name": "Python 3",
   "language": "python",
   "name": "python3"
  },
  "language_info": {
   "codemirror_mode": {
    "name": "ipython",
    "version": 3
   },
   "file_extension": ".py",
   "mimetype": "text/x-python",
   "name": "python",
   "nbconvert_exporter": "python",
   "pygments_lexer": "ipython3",
   "version": "3.6.7"
  }
 },
 "nbformat": 4,
 "nbformat_minor": 2
}
